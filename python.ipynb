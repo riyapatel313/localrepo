{
  "nbformat": 4,
  "nbformat_minor": 0,
  "metadata": {
    "colab": {
      "provenance": [],
      "authorship_tag": "ABX9TyPqKiQmKleMd84BVmiXc6Tr",
      "include_colab_link": true
    },
    "kernelspec": {
      "name": "python3",
      "display_name": "Python 3"
    },
    "language_info": {
      "name": "python"
    }
  },
  "cells": [
    {
      "cell_type": "markdown",
      "metadata": {
        "id": "view-in-github",
        "colab_type": "text"
      },
      "source": [
        "<a href=\"https://colab.research.google.com/github/riyapatel313/localrepo/blob/main/python.ipynb\" target=\"_parent\"><img src=\"https://colab.research.google.com/assets/colab-badge.svg\" alt=\"Open In Colab\"/></a>"
      ]
    },
    {
      "cell_type": "code",
      "execution_count": 11,
      "metadata": {
        "colab": {
          "base_uri": "https://localhost:8080/"
        },
        "id": "6MPhzir5I2jx",
        "outputId": "3980225b-ddec-48ce-a986-6b87628431dc"
      },
      "outputs": [
        {
          "output_type": "stream",
          "name": "stdout",
          "text": [
            "menu:\n",
            "press 1 for converting temp from celcius to ferhrenhit: /n press 2 for converting temp from ferhrenhit to celcius:2\n",
            "enter number in ferhenheit:4\n",
            "temp in C : -15.555555555555557\n"
          ]
        }
      ],
      "source": [
        "\n",
        "print(\"menu:\")\n",
        "a = float(input(\"press 1 for converting temp from celcius to ferhrenhit: /n press 2 for converting temp from ferhrenhit to celcius:\" ))\n",
        "\n",
        "\n",
        "if a==1:\n",
        "    C = float(input(\"enter number in celcius:\"))\n",
        "    F = (C*9/5)+ 32\n",
        "    print(\"temp in F:\" ,F)\n",
        "elif a == 2 :\n",
        "    F = float(input(\"enter number in ferhenheit:\"))\n",
        "    C = 5/9 * (F-32)\n",
        "    print(\"temp in C :\",C)\n",
        "else :\n",
        "    print(\"invalid choice please enter 1 or 2 \")\n",
        "\n"
      ]
    }
  ]
}